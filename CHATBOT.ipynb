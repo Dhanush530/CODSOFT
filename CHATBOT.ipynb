{
 "cells": [
  {
   "cell_type": "code",
   "execution_count": 1,
   "id": "fb5dc950",
   "metadata": {
    "scrolled": true
   },
   "outputs": [],
   "source": [
    "import re\n",
    "import sys\n",
    "import long_responses as long #.py file created separately"
   ]
  },
  {
   "cell_type": "code",
   "execution_count": 2,
   "id": "84b16a70",
   "metadata": {},
   "outputs": [],
   "source": [
    "import warnings\n",
    "warnings.filterwarnings(\"ignore\")"
   ]
  },
  {
   "cell_type": "code",
   "execution_count": 3,
   "id": "17d7f683",
   "metadata": {},
   "outputs": [],
   "source": [
    "def message_probability(user_message, recognised_words, single_response=False, required_words=[]):\n",
    "    message_certainty = 0\n",
    "    has_required_words = True\n",
    "\n",
    "    # Counts how many words are present in each predefined message\n",
    "    for word in user_message:\n",
    "        if word in recognised_words:\n",
    "            message_certainty += 1\n",
    "\n",
    "    # Calculates the percent of recognised words in a user message\n",
    "    percentage = float(message_certainty) / float(len(recognised_words))\n",
    "\n",
    "    # Checks that the required words are in the string\n",
    "    for word in required_words:\n",
    "        if word not in user_message:\n",
    "            has_required_words = False\n",
    "            break\n",
    "\n",
    "    # Must either have the required words, or be a single response\n",
    "    if has_required_words or single_response:\n",
    "        return int(percentage * 100)\n",
    "    else:\n",
    "        return 0"
   ]
  },
  {
   "cell_type": "code",
   "execution_count": 7,
   "id": "b2f2b560",
   "metadata": {},
   "outputs": [],
   "source": [
    "def check_all_messages(message):\n",
    "    highest_prob_list = {}\n",
    "\n",
    "    # Simplifies response creation / adds it to the dict\n",
    "    def response(bot_response, list_of_words, single_response=False, required_words=[]):\n",
    "        nonlocal highest_prob_list\n",
    "        highest_prob_list[bot_response] = message_probability(message, list_of_words, single_response, required_words)\n",
    "\n",
    "    # Responses -------------------------------------------------------------------------------------------------------\n",
    "    response('Hello!', ['hello', 'hi', 'hii', 'hey', 'sup', 'heyo'], single_response=True)\n",
    "    #response('See you!', ['bye', 'goodbye'], single_response=True)\n",
    "    response('I\\'m doing fine, and you?', ['how', 'are', 'you', 'doing'], required_words=['how'])\n",
    "    response('You\\'re welcome!', ['thank', 'thanks'], single_response=True)\n",
    "    response('Fantastic!', ['i', 'love', 'coding'], required_words=['code', 'palace'])\n",
    "    response('Charlie ;)', ['what', 'is', 'your', 'name'], required_words=['your', 'name'])\n",
    "    response('chatbot', ['who', 'are', 'you'], required_words=['who', 'you'])\n",
    "    \n",
    "    # Longer responses\n",
    "    response(long.R_ADVICE, ['give', 'advice'], required_words=['advice'])\n",
    "    response(long.R_EATING, ['what', 'you', 'eat'], required_words=['you', 'eat'])\n",
    "    response(long.R_WEATHER, ['what', 'is', 'the', 'weather', 'today'], required_words=['weather'])\n",
    "    response(long.R_PLACE, ['where', 'do', 'you', 'live'], required_words=['you', 'live'])\n",
    "    response(long.R_CREATED, ['who', 'created', 'you'], required_words=['created', 'you'])\n",
    "    \n",
    "    best_match = max(highest_prob_list, key=highest_prob_list.get)\n",
    "    # print(highest_prob_list)\n",
    "    # print(f'Best match = {best_match} | Score: {highest_prob_list[best_match]}')\n",
    "\n",
    "    return long.unknown() if highest_prob_list[best_match] < 1 else best_match"
   ]
  },
  {
   "cell_type": "code",
   "execution_count": 8,
   "id": "8914cfb9",
   "metadata": {},
   "outputs": [],
   "source": [
    "# Used to get the response\n",
    "def get_response(user_input):\n",
    "    fw = ['bye', 'goodbye', 'tata', 'see ya', 'adios']\n",
    "    split_message = re.split(r'\\s+|[,;?!.-]\\s*', user_input.lower())\n",
    "    if user_input in fw :\n",
    "        print(\"Goodbye! Have a great day!\")\n",
    "        sys.exit('tc')\n",
    "    else:\n",
    "        response = check_all_messages(split_message)\n",
    "        return response "
   ]
  },
  {
   "cell_type": "code",
   "execution_count": 9,
   "id": "e9dd682e",
   "metadata": {},
   "outputs": [
    {
     "name": "stdout",
     "output_type": "stream",
     "text": [
      "You: hii\n",
      "Bot: Hello!\n",
      "You: who are you\n",
      "Bot: chatbot\n",
      "You: how are you\n",
      "Bot: I'm doing fine, and you?\n",
      "You: fine\n",
      "Bot: .....\n",
      "You: what is your name?\n",
      "Bot: Charlie ;)\n",
      "You: bye\n",
      "Goodbye! Have a great day!\n"
     ]
    },
    {
     "ename": "SystemExit",
     "evalue": "tc",
     "output_type": "error",
     "traceback": [
      "An exception has occurred, use %tb to see the full traceback.\n",
      "\u001b[1;31mSystemExit\u001b[0m\u001b[1;31m:\u001b[0m tc\n"
     ]
    }
   ],
   "source": [
    "# Testing the response system\n",
    "while True:\n",
    "    print('Bot: ' + get_response(input('You: ')))\n",
    "\n",
    "        #response = get_response(list_of_words)\n",
    "        #print(\"Bot:\", response)"
   ]
  },
  {
   "cell_type": "code",
   "execution_count": null,
   "id": "0313e463",
   "metadata": {},
   "outputs": [],
   "source": []
  }
 ],
 "metadata": {
  "kernelspec": {
   "display_name": "Python 3 (ipykernel)",
   "language": "python",
   "name": "python3"
  },
  "language_info": {
   "codemirror_mode": {
    "name": "ipython",
    "version": 3
   },
   "file_extension": ".py",
   "mimetype": "text/x-python",
   "name": "python",
   "nbconvert_exporter": "python",
   "pygments_lexer": "ipython3",
   "version": "3.11.4"
  }
 },
 "nbformat": 4,
 "nbformat_minor": 5
}
